{
 "cells": [
  {
   "cell_type": "code",
   "execution_count": 1,
   "metadata": {},
   "outputs": [],
   "source": [
    "#Import Statements\n",
    "\n",
    "import pandas as pd\n",
    "import numpy as np\n",
    "import matplotlib.pyplot as plt"
   ]
  },
  {
   "cell_type": "code",
   "execution_count": 91,
   "metadata": {},
   "outputs": [],
   "source": [
    "from sklearn.ensemble import ExtraTreesRegressor\n",
    "from sklearn.ensemble import RandomForestRegressor"
   ]
  },
  {
   "cell_type": "code",
   "execution_count": 3,
   "metadata": {},
   "outputs": [],
   "source": [
    "from sklearn.model_selection import train_test_split\n",
    "from sklearn.model_selection import GridSearchCV\n",
    "from sklearn.model_selection import RandomizedSearchCV\n",
    "from sklearn.model_selection import cross_val_score"
   ]
  },
  {
   "cell_type": "code",
   "execution_count": 4,
   "metadata": {},
   "outputs": [
    {
     "name": "stderr",
     "output_type": "stream",
     "text": [
      "C:\\Users\\airshu23\\Anaconda3\\lib\\site-packages\\IPython\\core\\interactiveshell.py:2728: DtypeWarning: Columns (5,16,17,19,20,22,23,24,25,26,52,68,102,108,116,118,120,122,124,130,136,137,138,523,525,543,546,612,664) have mixed types. Specify dtype option on import or set low_memory=False.\n",
      "  interactivity=interactivity, compiler=compiler, result=result)\n"
     ]
    }
   ],
   "source": [
    "#Read file\n",
    "\n",
    "raw_df = pd.read_csv('C:/Users/airshu23/Desktop/Capstone2/ICPSR_20520/DS0001/Data.tsv', sep='\\t')"
   ]
  },
  {
   "cell_type": "code",
   "execution_count": 5,
   "metadata": {},
   "outputs": [
    {
     "name": "stdout",
     "output_type": "stream",
     "text": [
      "(5262, 665)\n",
      "Index(['CASEID', 'V1', 'V2', 'V4', 'V5', 'V7', 'V8', 'V9', 'V10', 'V11',\n",
      "       ...\n",
      "       'V448G', 'V448H', 'V448I', 'V448J', 'V448K', 'V448L', 'V448M', 'V448N',\n",
      "       'V449', 'V450'],\n",
      "      dtype='object', length=665)\n"
     ]
    }
   ],
   "source": [
    "print (raw_df.shape)\n",
    "\n",
    "print (raw_df.columns)\n"
   ]
  },
  {
   "cell_type": "code",
   "execution_count": 6,
   "metadata": {},
   "outputs": [
    {
     "data": {
      "text/html": [
       "<div>\n",
       "<style scoped>\n",
       "    .dataframe tbody tr th:only-of-type {\n",
       "        vertical-align: middle;\n",
       "    }\n",
       "\n",
       "    .dataframe tbody tr th {\n",
       "        vertical-align: top;\n",
       "    }\n",
       "\n",
       "    .dataframe thead th {\n",
       "        text-align: right;\n",
       "    }\n",
       "</style>\n",
       "<table border=\"1\" class=\"dataframe\">\n",
       "  <thead>\n",
       "    <tr style=\"text-align: right;\">\n",
       "      <th></th>\n",
       "      <th>CASEID</th>\n",
       "      <th>V1</th>\n",
       "      <th>V2</th>\n",
       "      <th>V4</th>\n",
       "      <th>V5</th>\n",
       "      <th>V7</th>\n",
       "      <th>V8</th>\n",
       "      <th>V9</th>\n",
       "      <th>V10</th>\n",
       "      <th>V11</th>\n",
       "      <th>...</th>\n",
       "      <th>V448G</th>\n",
       "      <th>V448H</th>\n",
       "      <th>V448I</th>\n",
       "      <th>V448J</th>\n",
       "      <th>V448K</th>\n",
       "      <th>V448L</th>\n",
       "      <th>V448M</th>\n",
       "      <th>V448N</th>\n",
       "      <th>V449</th>\n",
       "      <th>V450</th>\n",
       "    </tr>\n",
       "  </thead>\n",
       "  <tbody>\n",
       "    <tr>\n",
       "      <th>0</th>\n",
       "      <td>1</td>\n",
       "      <td>257</td>\n",
       "      <td>1</td>\n",
       "      <td>7</td>\n",
       "      <td>8</td>\n",
       "      <td>1</td>\n",
       "      <td></td>\n",
       "      <td>44</td>\n",
       "      <td>85</td>\n",
       "      <td></td>\n",
       "      <td>...</td>\n",
       "      <td>0</td>\n",
       "      <td>0</td>\n",
       "      <td>0</td>\n",
       "      <td>0</td>\n",
       "      <td>0</td>\n",
       "      <td>0</td>\n",
       "      <td>0</td>\n",
       "      <td>0</td>\n",
       "      <td>2</td>\n",
       "      <td>13</td>\n",
       "    </tr>\n",
       "    <tr>\n",
       "      <th>1</th>\n",
       "      <td>2</td>\n",
       "      <td>2347</td>\n",
       "      <td>1</td>\n",
       "      <td>13</td>\n",
       "      <td>9</td>\n",
       "      <td>1</td>\n",
       "      <td></td>\n",
       "      <td>102</td>\n",
       "      <td></td>\n",
       "      <td></td>\n",
       "      <td>...</td>\n",
       "      <td>0</td>\n",
       "      <td>0</td>\n",
       "      <td>0</td>\n",
       "      <td>0</td>\n",
       "      <td>0</td>\n",
       "      <td>0</td>\n",
       "      <td>0</td>\n",
       "      <td>0</td>\n",
       "      <td>3</td>\n",
       "      <td>12</td>\n",
       "    </tr>\n",
       "    <tr>\n",
       "      <th>2</th>\n",
       "      <td>3</td>\n",
       "      <td>860</td>\n",
       "      <td>1</td>\n",
       "      <td>12</td>\n",
       "      <td>9</td>\n",
       "      <td>2</td>\n",
       "      <td>1</td>\n",
       "      <td>78</td>\n",
       "      <td>69</td>\n",
       "      <td>1</td>\n",
       "      <td>...</td>\n",
       "      <td>1</td>\n",
       "      <td>1</td>\n",
       "      <td>1</td>\n",
       "      <td>0</td>\n",
       "      <td>0</td>\n",
       "      <td>0</td>\n",
       "      <td>0</td>\n",
       "      <td>0</td>\n",
       "      <td>2</td>\n",
       "      <td>2</td>\n",
       "    </tr>\n",
       "    <tr>\n",
       "      <th>3</th>\n",
       "      <td>4</td>\n",
       "      <td>5178</td>\n",
       "      <td>3</td>\n",
       "      <td>20</td>\n",
       "      <td>9</td>\n",
       "      <td>1</td>\n",
       "      <td></td>\n",
       "      <td>82</td>\n",
       "      <td>78</td>\n",
       "      <td>1</td>\n",
       "      <td>...</td>\n",
       "      <td>0</td>\n",
       "      <td>0</td>\n",
       "      <td>0</td>\n",
       "      <td>0</td>\n",
       "      <td>0</td>\n",
       "      <td>0</td>\n",
       "      <td>1</td>\n",
       "      <td>0</td>\n",
       "      <td>1</td>\n",
       "      <td>5</td>\n",
       "    </tr>\n",
       "    <tr>\n",
       "      <th>4</th>\n",
       "      <td>5</td>\n",
       "      <td>1984</td>\n",
       "      <td>1</td>\n",
       "      <td>12</td>\n",
       "      <td>9</td>\n",
       "      <td>1</td>\n",
       "      <td></td>\n",
       "      <td>101</td>\n",
       "      <td>78</td>\n",
       "      <td>2</td>\n",
       "      <td>...</td>\n",
       "      <td>0</td>\n",
       "      <td>0</td>\n",
       "      <td>1</td>\n",
       "      <td>1</td>\n",
       "      <td>0</td>\n",
       "      <td>0</td>\n",
       "      <td>1</td>\n",
       "      <td>0</td>\n",
       "      <td>1</td>\n",
       "      <td>4</td>\n",
       "    </tr>\n",
       "  </tbody>\n",
       "</table>\n",
       "<p>5 rows × 665 columns</p>\n",
       "</div>"
      ],
      "text/plain": [
       "   CASEID    V1  V2  V4  V5 V7 V8   V9 V10 V11 ...  V448G V448H V448I V448J  \\\n",
       "0       1   257   1   7   8  1      44  85     ...      0     0     0     0   \n",
       "1       2  2347   1  13   9  1     102         ...      0     0     0     0   \n",
       "2       3   860   1  12   9  2  1   78  69   1 ...      1     1     1     0   \n",
       "3       4  5178   3  20   9  1      82  78   1 ...      0     0     0     0   \n",
       "4       5  1984   1  12   9  1     101  78   2 ...      0     0     1     1   \n",
       "\n",
       "  V448K  V448L V448M V448N  V449 V450  \n",
       "0     0      0     0     0     2   13  \n",
       "1     0      0     0     0     3   12  \n",
       "2     0      0     0     0     2    2  \n",
       "3     0      0     1     0     1    5  \n",
       "4     0      0     1     0     1    4  \n",
       "\n",
       "[5 rows x 665 columns]"
      ]
     },
     "execution_count": 6,
     "metadata": {},
     "output_type": "execute_result"
    }
   ],
   "source": [
    "raw_df.head()"
   ]
  },
  {
   "cell_type": "code",
   "execution_count": 7,
   "metadata": {},
   "outputs": [],
   "source": [
    "# Establish index to CASEID\n",
    "raw_df.set_index('CASEID', inplace = True)"
   ]
  },
  {
   "cell_type": "code",
   "execution_count": 8,
   "metadata": {},
   "outputs": [
    {
     "name": "stdout",
     "output_type": "stream",
     "text": [
      "<class 'str'>\n"
     ]
    }
   ],
   "source": [
    "#testing how blank values are represented\n",
    "print (type(raw_df.loc[1, 'V8']))"
   ]
  },
  {
   "cell_type": "code",
   "execution_count": 9,
   "metadata": {},
   "outputs": [
    {
     "name": "stdout",
     "output_type": "stream",
     "text": [
      "True\n"
     ]
    }
   ],
   "source": [
    "print (raw_df['V8'][5] == ' ')     ## one empty space"
   ]
  },
  {
   "cell_type": "code",
   "execution_count": 10,
   "metadata": {},
   "outputs": [],
   "source": [
    "# copy into new dataframe for modification\n",
    "df = raw_df.copy()"
   ]
  },
  {
   "cell_type": "code",
   "execution_count": 11,
   "metadata": {},
   "outputs": [],
   "source": [
    "# get columns for entire dataset\n",
    "variables = list(df.columns)\n"
   ]
  },
  {
   "cell_type": "markdown",
   "metadata": {},
   "source": [
    "## Data Wrangling"
   ]
  },
  {
   "cell_type": "code",
   "execution_count": 12,
   "metadata": {},
   "outputs": [],
   "source": [
    "# convert all entries to string so that the function in the next cell runs properly\n",
    "df[variables] = df[variables].astype(str)"
   ]
  },
  {
   "cell_type": "code",
   "execution_count": 13,
   "metadata": {},
   "outputs": [],
   "source": [
    "#check for alphabet in column values\n",
    "def check(series):\n",
    "    \n",
    "    if series.str.contains('[a-z]', regex = True).sum() > 0:\n",
    "        return True\n",
    "    return False\n",
    "\n",
    "# list of columns to drop from df\n",
    "dropped = []\n"
   ]
  },
  {
   "cell_type": "code",
   "execution_count": 14,
   "metadata": {},
   "outputs": [],
   "source": [
    "# gather all columns with non-digit strings (a-z)\n",
    "for var in variables:\n",
    "    if check(df[var]) == True:\n",
    "        dropped.append(var)"
   ]
  },
  {
   "cell_type": "code",
   "execution_count": 15,
   "metadata": {},
   "outputs": [
    {
     "name": "stdout",
     "output_type": "stream",
     "text": [
      "['V401A', 'V401B', 'V402B', 'V404A', 'V407B', 'V408F', 'V408I', 'V408L', 'V408O', 'V409B', 'V409C', 'V410', 'V410B', 'V414A1', 'V415A1', 'V416A', 'V417A', 'V418A', 'V425A', 'V427A', 'V436A', 'V438A', 'V439A', 'V439B', 'V443A']\n"
     ]
    }
   ],
   "source": [
    "print(dropped)"
   ]
  },
  {
   "cell_type": "code",
   "execution_count": 16,
   "metadata": {},
   "outputs": [],
   "source": [
    "# remove variables with alphabet characters\n",
    "df.drop(dropped, inplace = True, axis=1)\n"
   ]
  },
  {
   "cell_type": "code",
   "execution_count": 17,
   "metadata": {},
   "outputs": [],
   "source": [
    "remaining_columns = list(df.columns)"
   ]
  },
  {
   "cell_type": "code",
   "execution_count": 18,
   "metadata": {},
   "outputs": [],
   "source": [
    "# get index of first 2005 variable\n",
    "first_2005 = remaining_columns.index('V400')\n",
    "\n",
    "# get index of last 2005 variable\n",
    "last_2005 = remaining_columns.index('V450')"
   ]
  },
  {
   "cell_type": "code",
   "execution_count": 19,
   "metadata": {},
   "outputs": [],
   "source": [
    "#all variables from 2005 followup\n",
    "variables_2005 = set(remaining_columns[first_2005:last_2005+1])"
   ]
  },
  {
   "cell_type": "code",
   "execution_count": 20,
   "metadata": {},
   "outputs": [],
   "source": [
    "#variables to keep from 2005 followup\n",
    "#V411 - work status\n",
    "#v415E - job prestige score\n",
    "#V421 - total individual monthly earnings\n",
    "#V422 - total household income/year\n",
    "#v426A - expected occupation (at age 30) prestige score\n",
    "\n",
    "keep_2005 = set(['V411', 'V415E', 'V421', 'V422', 'V426A', 'V448M'])"
   ]
  },
  {
   "cell_type": "code",
   "execution_count": 21,
   "metadata": {},
   "outputs": [],
   "source": [
    "# remove 2005 variables except V411, V415E, V421, V426A, V448M\n",
    "drop_2005 = list(variables_2005.difference(keep_2005))"
   ]
  },
  {
   "cell_type": "code",
   "execution_count": 22,
   "metadata": {},
   "outputs": [
    {
     "name": "stdout",
     "output_type": "stream",
     "text": [
      "(5262, 545)\n"
     ]
    }
   ],
   "source": [
    "#drop from column headers above\n",
    "df1 = df.drop(drop_2005, axis=1)\n",
    "\n",
    "print (df1.shape)\n"
   ]
  },
  {
   "cell_type": "code",
   "execution_count": 23,
   "metadata": {},
   "outputs": [
    {
     "data": {
      "text/html": [
       "<div>\n",
       "<style scoped>\n",
       "    .dataframe tbody tr th:only-of-type {\n",
       "        vertical-align: middle;\n",
       "    }\n",
       "\n",
       "    .dataframe tbody tr th {\n",
       "        vertical-align: top;\n",
       "    }\n",
       "\n",
       "    .dataframe thead th {\n",
       "        text-align: right;\n",
       "    }\n",
       "</style>\n",
       "<table border=\"1\" class=\"dataframe\">\n",
       "  <thead>\n",
       "    <tr style=\"text-align: right;\">\n",
       "      <th></th>\n",
       "      <th>V1</th>\n",
       "      <th>V2</th>\n",
       "      <th>V4</th>\n",
       "      <th>V5</th>\n",
       "      <th>V7</th>\n",
       "      <th>V8</th>\n",
       "      <th>V9</th>\n",
       "      <th>V10</th>\n",
       "      <th>V11</th>\n",
       "      <th>V13</th>\n",
       "      <th>...</th>\n",
       "      <th>C17</th>\n",
       "      <th>C18</th>\n",
       "      <th>C19</th>\n",
       "      <th>C20</th>\n",
       "      <th>V411</th>\n",
       "      <th>V415E</th>\n",
       "      <th>V421</th>\n",
       "      <th>V422</th>\n",
       "      <th>V426A</th>\n",
       "      <th>V448M</th>\n",
       "    </tr>\n",
       "    <tr>\n",
       "      <th>CASEID</th>\n",
       "      <th></th>\n",
       "      <th></th>\n",
       "      <th></th>\n",
       "      <th></th>\n",
       "      <th></th>\n",
       "      <th></th>\n",
       "      <th></th>\n",
       "      <th></th>\n",
       "      <th></th>\n",
       "      <th></th>\n",
       "      <th></th>\n",
       "      <th></th>\n",
       "      <th></th>\n",
       "      <th></th>\n",
       "      <th></th>\n",
       "      <th></th>\n",
       "      <th></th>\n",
       "      <th></th>\n",
       "      <th></th>\n",
       "      <th></th>\n",
       "      <th></th>\n",
       "    </tr>\n",
       "  </thead>\n",
       "  <tbody>\n",
       "    <tr>\n",
       "      <th>1</th>\n",
       "      <td>257</td>\n",
       "      <td>1</td>\n",
       "      <td>7</td>\n",
       "      <td>8</td>\n",
       "      <td>1</td>\n",
       "      <td></td>\n",
       "      <td>44</td>\n",
       "      <td>85</td>\n",
       "      <td></td>\n",
       "      <td>1</td>\n",
       "      <td>...</td>\n",
       "      <td>3.3</td>\n",
       "      <td>5</td>\n",
       "      <td>2</td>\n",
       "      <td></td>\n",
       "      <td>2</td>\n",
       "      <td>57</td>\n",
       "      <td>1800</td>\n",
       "      <td>7</td>\n",
       "      <td></td>\n",
       "      <td>0</td>\n",
       "    </tr>\n",
       "    <tr>\n",
       "      <th>2</th>\n",
       "      <td>2347</td>\n",
       "      <td>1</td>\n",
       "      <td>13</td>\n",
       "      <td>9</td>\n",
       "      <td>1</td>\n",
       "      <td></td>\n",
       "      <td>102</td>\n",
       "      <td></td>\n",
       "      <td></td>\n",
       "      <td>1</td>\n",
       "      <td>...</td>\n",
       "      <td>3.3</td>\n",
       "      <td>4.67</td>\n",
       "      <td>1.33</td>\n",
       "      <td>3</td>\n",
       "      <td>8</td>\n",
       "      <td></td>\n",
       "      <td>850</td>\n",
       "      <td>2</td>\n",
       "      <td></td>\n",
       "      <td>0</td>\n",
       "    </tr>\n",
       "    <tr>\n",
       "      <th>3</th>\n",
       "      <td>860</td>\n",
       "      <td>1</td>\n",
       "      <td>12</td>\n",
       "      <td>9</td>\n",
       "      <td>2</td>\n",
       "      <td>1</td>\n",
       "      <td>78</td>\n",
       "      <td>69</td>\n",
       "      <td>1</td>\n",
       "      <td>1</td>\n",
       "      <td>...</td>\n",
       "      <td>3.6</td>\n",
       "      <td>1.67</td>\n",
       "      <td>2</td>\n",
       "      <td>2</td>\n",
       "      <td>1</td>\n",
       "      <td>34</td>\n",
       "      <td>1054</td>\n",
       "      <td>8</td>\n",
       "      <td>56</td>\n",
       "      <td>0</td>\n",
       "    </tr>\n",
       "    <tr>\n",
       "      <th>4</th>\n",
       "      <td>5178</td>\n",
       "      <td>3</td>\n",
       "      <td>20</td>\n",
       "      <td>9</td>\n",
       "      <td>1</td>\n",
       "      <td></td>\n",
       "      <td>82</td>\n",
       "      <td>78</td>\n",
       "      <td>1</td>\n",
       "      <td>1</td>\n",
       "      <td>...</td>\n",
       "      <td></td>\n",
       "      <td></td>\n",
       "      <td></td>\n",
       "      <td></td>\n",
       "      <td>3</td>\n",
       "      <td></td>\n",
       "      <td>1900</td>\n",
       "      <td>9</td>\n",
       "      <td>51</td>\n",
       "      <td>1</td>\n",
       "    </tr>\n",
       "    <tr>\n",
       "      <th>5</th>\n",
       "      <td>1984</td>\n",
       "      <td>1</td>\n",
       "      <td>12</td>\n",
       "      <td>9</td>\n",
       "      <td>1</td>\n",
       "      <td></td>\n",
       "      <td>101</td>\n",
       "      <td>78</td>\n",
       "      <td>2</td>\n",
       "      <td>1</td>\n",
       "      <td>...</td>\n",
       "      <td>4</td>\n",
       "      <td>3.67</td>\n",
       "      <td>1.33</td>\n",
       "      <td>2</td>\n",
       "      <td>1</td>\n",
       "      <td>51</td>\n",
       "      <td>5000</td>\n",
       "      <td>6</td>\n",
       "      <td></td>\n",
       "      <td>1</td>\n",
       "    </tr>\n",
       "  </tbody>\n",
       "</table>\n",
       "<p>5 rows × 545 columns</p>\n",
       "</div>"
      ],
      "text/plain": [
       "          V1 V2  V4 V5 V7 V8   V9 V10 V11 V13  ...   C17   C18   C19 C20 V411  \\\n",
       "CASEID                                         ...                              \n",
       "1        257  1   7  8  1      44  85       1  ...   3.3     5     2        2   \n",
       "2       2347  1  13  9  1     102           1  ...   3.3  4.67  1.33   3    8   \n",
       "3        860  1  12  9  2  1   78  69   1   1  ...   3.6  1.67     2   2    1   \n",
       "4       5178  3  20  9  1      82  78   1   1  ...                          3   \n",
       "5       1984  1  12  9  1     101  78   2   1  ...     4  3.67  1.33   2    1   \n",
       "\n",
       "       V415E  V421 V422 V426A V448M  \n",
       "CASEID                               \n",
       "1         57  1800    7           0  \n",
       "2              850    2           0  \n",
       "3         34  1054    8    56     0  \n",
       "4             1900    9    51     1  \n",
       "5         51  5000    6           1  \n",
       "\n",
       "[5 rows x 545 columns]"
      ]
     },
     "execution_count": 23,
     "metadata": {},
     "output_type": "execute_result"
    }
   ],
   "source": [
    "df1.head(5)"
   ]
  },
  {
   "cell_type": "code",
   "execution_count": 24,
   "metadata": {},
   "outputs": [],
   "source": [
    "#get columns from df1\n",
    "\n",
    "cols = list(df1.columns)\n",
    "\n",
    "# convert entries to numeric\n",
    "df1[cols] = df1[cols].apply(pd.to_numeric, errors='coerce')\n"
   ]
  },
  {
   "cell_type": "code",
   "execution_count": 25,
   "metadata": {},
   "outputs": [
    {
     "data": {
      "text/html": [
       "<div>\n",
       "<style scoped>\n",
       "    .dataframe tbody tr th:only-of-type {\n",
       "        vertical-align: middle;\n",
       "    }\n",
       "\n",
       "    .dataframe tbody tr th {\n",
       "        vertical-align: top;\n",
       "    }\n",
       "\n",
       "    .dataframe thead th {\n",
       "        text-align: right;\n",
       "    }\n",
       "</style>\n",
       "<table border=\"1\" class=\"dataframe\">\n",
       "  <thead>\n",
       "    <tr style=\"text-align: right;\">\n",
       "      <th></th>\n",
       "      <th>V1</th>\n",
       "      <th>V2</th>\n",
       "      <th>V4</th>\n",
       "      <th>V5</th>\n",
       "      <th>V7</th>\n",
       "      <th>V8</th>\n",
       "      <th>V9</th>\n",
       "      <th>V10</th>\n",
       "      <th>V11</th>\n",
       "      <th>V13</th>\n",
       "      <th>...</th>\n",
       "      <th>C17</th>\n",
       "      <th>C18</th>\n",
       "      <th>C19</th>\n",
       "      <th>C20</th>\n",
       "      <th>V411</th>\n",
       "      <th>V415E</th>\n",
       "      <th>V421</th>\n",
       "      <th>V422</th>\n",
       "      <th>V426A</th>\n",
       "      <th>V448M</th>\n",
       "    </tr>\n",
       "    <tr>\n",
       "      <th>CASEID</th>\n",
       "      <th></th>\n",
       "      <th></th>\n",
       "      <th></th>\n",
       "      <th></th>\n",
       "      <th></th>\n",
       "      <th></th>\n",
       "      <th></th>\n",
       "      <th></th>\n",
       "      <th></th>\n",
       "      <th></th>\n",
       "      <th></th>\n",
       "      <th></th>\n",
       "      <th></th>\n",
       "      <th></th>\n",
       "      <th></th>\n",
       "      <th></th>\n",
       "      <th></th>\n",
       "      <th></th>\n",
       "      <th></th>\n",
       "      <th></th>\n",
       "      <th></th>\n",
       "    </tr>\n",
       "  </thead>\n",
       "  <tbody>\n",
       "    <tr>\n",
       "      <th>1</th>\n",
       "      <td>257</td>\n",
       "      <td>1</td>\n",
       "      <td>7</td>\n",
       "      <td>8</td>\n",
       "      <td>1.0</td>\n",
       "      <td>NaN</td>\n",
       "      <td>44.0</td>\n",
       "      <td>85.0</td>\n",
       "      <td>NaN</td>\n",
       "      <td>1.0</td>\n",
       "      <td>...</td>\n",
       "      <td>3.3</td>\n",
       "      <td>5.00</td>\n",
       "      <td>2.00</td>\n",
       "      <td>NaN</td>\n",
       "      <td>2.0</td>\n",
       "      <td>57.0</td>\n",
       "      <td>1800.0</td>\n",
       "      <td>7.0</td>\n",
       "      <td>NaN</td>\n",
       "      <td>0.0</td>\n",
       "    </tr>\n",
       "    <tr>\n",
       "      <th>2</th>\n",
       "      <td>2347</td>\n",
       "      <td>1</td>\n",
       "      <td>13</td>\n",
       "      <td>9</td>\n",
       "      <td>1.0</td>\n",
       "      <td>NaN</td>\n",
       "      <td>102.0</td>\n",
       "      <td>NaN</td>\n",
       "      <td>NaN</td>\n",
       "      <td>1.0</td>\n",
       "      <td>...</td>\n",
       "      <td>3.3</td>\n",
       "      <td>4.67</td>\n",
       "      <td>1.33</td>\n",
       "      <td>3.0</td>\n",
       "      <td>8.0</td>\n",
       "      <td>NaN</td>\n",
       "      <td>850.0</td>\n",
       "      <td>2.0</td>\n",
       "      <td>NaN</td>\n",
       "      <td>0.0</td>\n",
       "    </tr>\n",
       "    <tr>\n",
       "      <th>3</th>\n",
       "      <td>860</td>\n",
       "      <td>1</td>\n",
       "      <td>12</td>\n",
       "      <td>9</td>\n",
       "      <td>2.0</td>\n",
       "      <td>1.0</td>\n",
       "      <td>78.0</td>\n",
       "      <td>69.0</td>\n",
       "      <td>1.0</td>\n",
       "      <td>1.0</td>\n",
       "      <td>...</td>\n",
       "      <td>3.6</td>\n",
       "      <td>1.67</td>\n",
       "      <td>2.00</td>\n",
       "      <td>2.0</td>\n",
       "      <td>1.0</td>\n",
       "      <td>34.0</td>\n",
       "      <td>1054.0</td>\n",
       "      <td>8.0</td>\n",
       "      <td>56.0</td>\n",
       "      <td>0.0</td>\n",
       "    </tr>\n",
       "    <tr>\n",
       "      <th>4</th>\n",
       "      <td>5178</td>\n",
       "      <td>3</td>\n",
       "      <td>20</td>\n",
       "      <td>9</td>\n",
       "      <td>1.0</td>\n",
       "      <td>NaN</td>\n",
       "      <td>82.0</td>\n",
       "      <td>78.0</td>\n",
       "      <td>1.0</td>\n",
       "      <td>1.0</td>\n",
       "      <td>...</td>\n",
       "      <td>NaN</td>\n",
       "      <td>NaN</td>\n",
       "      <td>NaN</td>\n",
       "      <td>NaN</td>\n",
       "      <td>3.0</td>\n",
       "      <td>NaN</td>\n",
       "      <td>1900.0</td>\n",
       "      <td>9.0</td>\n",
       "      <td>51.0</td>\n",
       "      <td>1.0</td>\n",
       "    </tr>\n",
       "    <tr>\n",
       "      <th>5</th>\n",
       "      <td>1984</td>\n",
       "      <td>1</td>\n",
       "      <td>12</td>\n",
       "      <td>9</td>\n",
       "      <td>1.0</td>\n",
       "      <td>NaN</td>\n",
       "      <td>101.0</td>\n",
       "      <td>78.0</td>\n",
       "      <td>2.0</td>\n",
       "      <td>1.0</td>\n",
       "      <td>...</td>\n",
       "      <td>4.0</td>\n",
       "      <td>3.67</td>\n",
       "      <td>1.33</td>\n",
       "      <td>2.0</td>\n",
       "      <td>1.0</td>\n",
       "      <td>51.0</td>\n",
       "      <td>5000.0</td>\n",
       "      <td>6.0</td>\n",
       "      <td>NaN</td>\n",
       "      <td>1.0</td>\n",
       "    </tr>\n",
       "  </tbody>\n",
       "</table>\n",
       "<p>5 rows × 545 columns</p>\n",
       "</div>"
      ],
      "text/plain": [
       "          V1  V2  V4  V5   V7   V8     V9   V10  V11  V13  ...    C17   C18  \\\n",
       "CASEID                                                     ...                \n",
       "1        257   1   7   8  1.0  NaN   44.0  85.0  NaN  1.0  ...    3.3  5.00   \n",
       "2       2347   1  13   9  1.0  NaN  102.0   NaN  NaN  1.0  ...    3.3  4.67   \n",
       "3        860   1  12   9  2.0  1.0   78.0  69.0  1.0  1.0  ...    3.6  1.67   \n",
       "4       5178   3  20   9  1.0  NaN   82.0  78.0  1.0  1.0  ...    NaN   NaN   \n",
       "5       1984   1  12   9  1.0  NaN  101.0  78.0  2.0  1.0  ...    4.0  3.67   \n",
       "\n",
       "         C19  C20  V411  V415E    V421  V422  V426A  V448M  \n",
       "CASEID                                                      \n",
       "1       2.00  NaN   2.0   57.0  1800.0   7.0    NaN    0.0  \n",
       "2       1.33  3.0   8.0    NaN   850.0   2.0    NaN    0.0  \n",
       "3       2.00  2.0   1.0   34.0  1054.0   8.0   56.0    0.0  \n",
       "4        NaN  NaN   3.0    NaN  1900.0   9.0   51.0    1.0  \n",
       "5       1.33  2.0   1.0   51.0  5000.0   6.0    NaN    1.0  \n",
       "\n",
       "[5 rows x 545 columns]"
      ]
     },
     "execution_count": 25,
     "metadata": {},
     "output_type": "execute_result"
    }
   ],
   "source": [
    "df1.head()"
   ]
  },
  {
   "cell_type": "code",
   "execution_count": 26,
   "metadata": {},
   "outputs": [],
   "source": [
    "# remove rows that do not have entries for V421 (total monthly earnings)\n",
    "\n",
    "df2 = df1[pd.notnull(df1['V421'])]\n",
    "\n",
    "# removing outlier salaries for scatterplot\n",
    "df2_mod = df2[df2['V421'] < 7500]"
   ]
  },
  {
   "cell_type": "code",
   "execution_count": 27,
   "metadata": {},
   "outputs": [
    {
     "name": "stdout",
     "output_type": "stream",
     "text": [
      "(3299, 545)\n"
     ]
    }
   ],
   "source": [
    "# remove rows that do not have entries for V411 (work status)\n",
    "\n",
    "df3 = df1[pd.notnull(df1['V411'])]\n",
    "print(df3.shape)"
   ]
  },
  {
   "cell_type": "markdown",
   "metadata": {},
   "source": [
    "## Exploratory Data Analysis\n"
   ]
  },
  {
   "cell_type": "code",
   "execution_count": 28,
   "metadata": {},
   "outputs": [
    {
     "data": {
      "image/png": "[encoded data removed]",
      "text/plain": [
       "<matplotlib.figure.Figure at 0x1eab9681b00>"
      ]
     },
     "metadata": {},
     "output_type": "display_data"
    }
   ],
   "source": [
    "#gpa vs monthly earnings later in life\n",
    "ax1 = df2_mod.plot.scatter(x='V332', y='V421', s=0.5)"
   ]
  },
  {
   "cell_type": "code",
   "execution_count": 29,
   "metadata": {},
   "outputs": [
    {
     "data": {
      "image/png": "[encoded data removed]",
      "text/plain": [
       "<matplotlib.figure.Figure at 0x1eab96b6cf8>"
      ]
     },
     "metadata": {},
     "output_type": "display_data"
    }
   ],
   "source": [
    "#father's SEI (socio-economic index) score vs monthly earnings\n",
    "\n",
    "ax2 = df2_mod.plot.scatter(x='V123', y='V421', s=0.5)"
   ]
  },
  {
   "cell_type": "code",
   "execution_count": 30,
   "metadata": {},
   "outputs": [
    {
     "data": {
      "image/png": "[encoded data removed]",
      "text/plain": [
       "<matplotlib.figure.Figure at 0x1eab9a1e898>"
      ]
     },
     "metadata": {},
     "output_type": "display_data"
    }
   ],
   "source": [
    "#father's SEI (socio-economic index) score vs current job prestige score\n",
    "\n",
    "ax2 = df1.plot.scatter(x='V123', y='V415E', s=0.5)"
   ]
  },
  {
   "cell_type": "code",
   "execution_count": 31,
   "metadata": {},
   "outputs": [],
   "source": [
    "#public versus private - median earnings\n",
    "\n",
    "school_type = df1.groupby('C2').agg({'V421':'median'})"
   ]
  },
  {
   "cell_type": "code",
   "execution_count": 32,
   "metadata": {},
   "outputs": [],
   "source": [
    "school_type.index = ['Public School', 'Private School']"
   ]
  },
  {
   "cell_type": "code",
   "execution_count": 33,
   "metadata": {},
   "outputs": [
    {
     "data": {
      "image/png": "[encoded data removed]",
      "text/plain": [
       "<matplotlib.figure.Figure at 0x1eab97ec860>"
      ]
     },
     "metadata": {},
     "output_type": "display_data"
    }
   ],
   "source": [
    "plt.figure(figsize=(6,5))\n",
    "plt.bar(school_type.index, school_type['V421'].values, width = .25)\n",
    "plt.ylabel('Median Monthly Income', fontsize = 14)\n",
    "plt.xticks(fontsize= 14 )\n",
    "plt.yticks(fontsize= 14 )\n",
    "plt.show()"
   ]
  },
  {
   "cell_type": "code",
   "execution_count": 34,
   "metadata": {},
   "outputs": [],
   "source": [
    "# Safety at school 1 - low, 4 - high\n",
    "school_safety = df1.groupby('V211').agg({'V421':'median'})"
   ]
  },
  {
   "cell_type": "code",
   "execution_count": 35,
   "metadata": {},
   "outputs": [
    {
     "data": {
      "image/png": "[encoded data removed]",
      "text/plain": [
       "<matplotlib.figure.Figure at 0x1eab9852dd8>"
      ]
     },
     "metadata": {},
     "output_type": "display_data"
    }
   ],
   "source": [
    "#scatterplot of respondent's \n",
    "\n",
    "plt.figure(figsize=(6,5))\n",
    "plt.bar(school_safety.index, school_safety['V421'].values, width = .25)\n",
    "plt.ylabel('Median Monthly Income', fontsize = 14)\n",
    "plt.xlabel('Perception of School Safety (low to high)', fontsize = 14)\n",
    "plt.xticks(fontsize= 14 )\n",
    "plt.yticks(fontsize= 14 )\n",
    "plt.show()"
   ]
  },
  {
   "cell_type": "markdown",
   "metadata": {},
   "source": [
    "## Pre-processing and Dimensionality Reduction"
   ]
  },
  {
   "cell_type": "code",
   "execution_count": 36,
   "metadata": {},
   "outputs": [],
   "source": [
    "# Examine missing values\n",
    "\n",
    "test = df2.isna().sum() / len(df2)\n"
   ]
  },
  {
   "cell_type": "code",
   "execution_count": 37,
   "metadata": {},
   "outputs": [
    {
     "name": "stdout",
     "output_type": "stream",
     "text": [
      "V8       0.810603\n",
      "V10      0.518632\n",
      "V14      0.962735\n",
      "V34A     0.930465\n",
      "V34B     0.980023\n",
      "V39A     0.927776\n",
      "V39B     0.976181\n",
      "V46      0.911256\n",
      "V47      0.921629\n",
      "V48      0.920861\n",
      "V74A     0.504418\n",
      "V74B     0.504418\n",
      "V74C     0.504418\n",
      "V74D     0.504418\n",
      "V74E     0.504418\n",
      "V74G     0.504418\n",
      "V74H     0.504418\n",
      "V74I     0.504418\n",
      "V74K     0.504418\n",
      "V74L     0.504418\n",
      "V74M     0.602382\n",
      "V74N     0.602382\n",
      "V74O     0.602382\n",
      "V74P     0.602382\n",
      "V74Q     0.602382\n",
      "V74R     0.602382\n",
      "V74S     0.602382\n",
      "V74T     0.602382\n",
      "V74U     0.581637\n",
      "V87      0.765271\n",
      "           ...   \n",
      "P79      0.540914\n",
      "P80      0.766039\n",
      "P81      0.537073\n",
      "P82      0.591241\n",
      "P83      0.888974\n",
      "P85      0.764118\n",
      "P86      0.522858\n",
      "P88      0.597388\n",
      "P90      0.595467\n",
      "P91      0.593546\n",
      "P100     0.523242\n",
      "P101     0.615828\n",
      "P102     0.500960\n",
      "P103     0.547445\n",
      "P104     0.549750\n",
      "P105     0.519017\n",
      "P106     0.548214\n",
      "P122     0.548982\n",
      "P124     0.584326\n",
      "P130A    0.513638\n",
      "P130B    0.628121\n",
      "P130C    0.662697\n",
      "P130D    0.682674\n",
      "P130E    0.686900\n",
      "P134     0.807914\n",
      "P138     0.547445\n",
      "P139     0.563580\n",
      "P142     0.529389\n",
      "P143     0.754898\n",
      "P144     0.649251\n",
      "Length: 130, dtype: float64\n"
     ]
    }
   ],
   "source": [
    "testing = test[test>=0.5]\n",
    "\n",
    "print(testing)"
   ]
  },
  {
   "cell_type": "code",
   "execution_count": 66,
   "metadata": {},
   "outputs": [],
   "source": [
    "below50 = list(testing.index.values)"
   ]
  },
  {
   "cell_type": "code",
   "execution_count": 67,
   "metadata": {},
   "outputs": [],
   "source": [
    "dropped = below50 + ['V411', 'V415E', 'V422', 'V426A', 'V448M']"
   ]
  },
  {
   "cell_type": "code",
   "execution_count": 68,
   "metadata": {},
   "outputs": [
    {
     "name": "stdout",
     "output_type": "stream",
     "text": [
      "['V8', 'V10', 'V14', 'V34A', 'V34B', 'V39A', 'V39B', 'V46', 'V47', 'V48', 'V74A', 'V74B', 'V74C', 'V74D', 'V74E', 'V74G', 'V74H', 'V74I', 'V74K', 'V74L', 'V74M', 'V74N', 'V74O', 'V74P', 'V74Q', 'V74R', 'V74S', 'V74T', 'V74U', 'V87', 'V221', 'V246', 'V247', 'V248', 'V287', 'P14', 'P15', 'P16', 'P17', 'P18', 'P19', 'P20', 'P24', 'P25', 'P26B', 'P27B', 'P29A', 'P29B', 'P29C', 'P29D', 'P30', 'P32', 'P33A', 'P35', 'P36', 'P37', 'P38', 'P39A', 'P40', 'P41A', 'P42', 'P43A', 'P44', 'P45A', 'P45B', 'P46', 'P47', 'P48', 'P49', 'P50', 'P51', 'P53A', 'P53B', 'P53C', 'P53D', 'P54', 'P55', 'P56', 'P59A', 'P59B', 'P59C', 'P61', 'P63', 'P64', 'P65', 'P67', 'P68A', 'P69', 'P70', 'P71', 'P72', 'P74A', 'P74B', 'P74C', 'P75A', 'P75B', 'P75C', 'P76', 'P77', 'P78', 'P79', 'P80', 'P81', 'P82', 'P83', 'P85', 'P86', 'P88', 'P90', 'P91', 'P100', 'P101', 'P102', 'P103', 'P104', 'P105', 'P106', 'P122', 'P124', 'P130A', 'P130B', 'P130C', 'P130D', 'P130E', 'P134', 'P138', 'P139', 'P142', 'P143', 'P144', 'V411', 'V415E', 'V422', 'V426A', 'V448M']\n"
     ]
    }
   ],
   "source": [
    "print(dropped)"
   ]
  },
  {
   "cell_type": "code",
   "execution_count": 69,
   "metadata": {},
   "outputs": [],
   "source": [
    "# dropping above columns\n",
    "\n",
    "df2_vers1 = df2.drop(dropped, axis = 1)"
   ]
  },
  {
   "cell_type": "code",
   "execution_count": 70,
   "metadata": {},
   "outputs": [],
   "source": [
    "# imputing values for missing entries\n",
    "\n",
    "df2_vers2 = df2_vers1.fillna(df2_vers1.mean())"
   ]
  },
  {
   "cell_type": "code",
   "execution_count": 71,
   "metadata": {},
   "outputs": [],
   "source": [
    "# get train-test split\n",
    "\n",
    "X = df2_vers2.drop('V421', axis = 1)\n",
    "y = df2_vers2['V421']\n",
    "\n",
    "X_train, X_test, y_train, y_test = train_test_split(X, y, test_size=0.25, random_state=42)"
   ]
  },
  {
   "cell_type": "code",
   "execution_count": 76,
   "metadata": {},
   "outputs": [
    {
     "name": "stdout",
     "output_type": "stream",
     "text": [
      "(1952, 409)\n"
     ]
    }
   ],
   "source": [
    "print (X_train.shape)"
   ]
  },
  {
   "cell_type": "code",
   "execution_count": 75,
   "metadata": {},
   "outputs": [],
   "source": [
    "# get most important attributes\n",
    "\n",
    "selForestFit = ExtraTreesRegressor(n_estimators = 150, random_state= 27).fit(X_train, y_train)\n",
    "\n"
   ]
  },
  {
   "cell_type": "code",
   "execution_count": 77,
   "metadata": {},
   "outputs": [],
   "source": [
    "importances = selForestFit.feature_importances_\n"
   ]
  },
  {
   "cell_type": "code",
   "execution_count": 80,
   "metadata": {},
   "outputs": [
    {
     "data": {
      "text/plain": [
       "<matplotlib.axes._subplots.AxesSubplot at 0x1eaba5d2c18>"
      ]
     },
     "execution_count": 80,
     "metadata": {},
     "output_type": "execute_result"
    },
    {
     "data": {
      "image/png": "[encoded data removed]",
      "text/plain": [
       "<matplotlib.figure.Figure at 0x1eaba65b0b8>"
      ]
     },
     "metadata": {},
     "output_type": "display_data"
    }
   ],
   "source": [
    "feat_importances = pd.Series(importances, index= X.columns)\n",
    "feat_importances.nlargest(15).plot(kind='barh')"
   ]
  },
  {
   "cell_type": "markdown",
   "metadata": {},
   "source": [
    "## Preliminary Model"
   ]
  },
  {
   "cell_type": "code",
   "execution_count": 99,
   "metadata": {},
   "outputs": [
    {
     "name": "stdout",
     "output_type": "stream",
     "text": [
      "P92D     0.022046\n",
      "P22A     0.015868\n",
      "V68      0.015178\n",
      "V128     0.014487\n",
      "V279     0.013892\n",
      "V5       0.013546\n",
      "V19      0.010502\n",
      "V229D    0.009342\n",
      "V11      0.008338\n",
      "V272     0.007563\n",
      "V29B     0.007470\n",
      "V263     0.007334\n",
      "V81      0.007312\n",
      "V142     0.006947\n",
      "V281     0.006684\n",
      "dtype: float64\n"
     ]
    }
   ],
   "source": [
    "print(feat_importances.nlargest(15))"
   ]
  },
  {
   "cell_type": "code",
   "execution_count": 90,
   "metadata": {},
   "outputs": [],
   "source": [
    "# top 25 in terms of importance as derived from ExtraTreesRegressor\n",
    "top25 = list(feat_importances.nlargest(25).index)\n",
    "\n",
    "X_train_version1 = X_train[top25]\n",
    "X_test_version1 = X_test[top25]"
   ]
  },
  {
   "cell_type": "code",
   "execution_count": 100,
   "metadata": {},
   "outputs": [
    {
     "name": "stdout",
     "output_type": "stream",
     "text": [
      "R^2: -0.056324704039752316\n"
     ]
    }
   ],
   "source": [
    "#instantiate random forest regressor\n",
    "rf = RandomForestRegressor(max_depth= 5, random_state=23, n_estimators=100)\n",
    "\n",
    "# Fit the regressor to the training data\n",
    "rf.fit(X_train_version1, y_train)\n",
    "\n",
    "# Compute and print R^2 \n",
    "print(\"R^2: {}\".format(rf.score(X_test_version1, y_test)))"
   ]
  }
 ],
 "metadata": {
  "kernelspec": {
   "display_name": "Python 3",
   "language": "python",
   "name": "python3"
  },
  "language_info": {
   "codemirror_mode": {
    "name": "ipython",
    "version": 3
   },
   "file_extension": ".py",
   "mimetype": "text/x-python",
   "name": "python",
   "nbconvert_exporter": "python",
   "pygments_lexer": "ipython3",
   "version": "3.6.4"
  }
 },
 "nbformat": 4,
 "nbformat_minor": 2
}
