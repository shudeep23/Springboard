{
 "cells": [
  {
   "cell_type": "markdown",
   "metadata": {},
   "source": [
    "# What is the True Normal Human Body Temperature? \n",
    "\n",
    "#### Background\n",
    "\n",
    "The mean normal body temperature was held to be 37$^{\\circ}$C or 98.6$^{\\circ}$F for more than 120 years since it was first conceptualized and reported by Carl Wunderlich in a famous 1868 book. But, is this value statistically correct?"
   ]
  },
  {
   "cell_type": "markdown",
   "metadata": {},
   "source": [
    "<h3>Exercises</h3>\n",
    "\n",
    "<p>In this exercise, you will analyze a dataset of human body temperatures and employ the concepts of hypothesis testing, confidence intervals, and statistical significance.</p>\n",
    "\n",
    "<p>Answer the following questions <b>in this notebook below and submit to your Github account</b>.</p> \n",
    "\n",
    "<ol>\n",
    "<li>  Is the distribution of body temperatures normal? \n",
    "    <ul>\n",
    "    <li> Although this is not a requirement for the Central Limit Theorem to hold (read the introduction on Wikipedia's page about the CLT carefully: https://en.wikipedia.org/wiki/Central_limit_theorem), it gives us some peace of mind that the population may also be normally distributed if we assume that this sample is representative of the population.\n",
    "    <li> Think about the way you're going to check for the normality of the distribution. Graphical methods are usually used first, but there are also other ways: https://en.wikipedia.org/wiki/Normality_test\n",
    "    </ul>\n",
    "<li>  Is the sample size large? Are the observations independent?\n",
    "    <ul>\n",
    "    <li> Remember that this is a condition for the Central Limit Theorem, and hence the statistical tests we are using, to apply.\n",
    "    </ul>\n",
    "<li>  Is the true population mean really 98.6 degrees F?\n",
    "    <ul>\n",
    "    <li> First, try a bootstrap hypothesis test.\n",
    "    <li> Now, let's try frequentist statistical testing. Would you use a one-sample or two-sample test? Why?\n",
    "    <li> In this situation, is it appropriate to use the $t$ or $z$ statistic? \n",
    "    <li> Now try using the other test. How is the result be different? Why?\n",
    "    </ul>\n",
    "<li>  Draw a small sample of size 10 from the data and repeat both frequentist tests. \n",
    "    <ul>\n",
    "    <li> Which one is the correct one to use? \n",
    "    <li> What do you notice? What does this tell you about the difference in application of the $t$ and $z$ statistic?\n",
    "    </ul>\n",
    "<li>  At what temperature should we consider someone's temperature to be \"abnormal\"?\n",
    "    <ul>\n",
    "    <li> As in the previous example, try calculating everything using the boostrap approach, as well as the frequentist approach.\n",
    "    <li> Start by computing the margin of error and confidence interval. When calculating the confidence interval, keep in mind that you should use the appropriate formula for one draw, and not N draws.\n",
    "    </ul>\n",
    "<li>  Is there a significant difference between males and females in normal temperature?\n",
    "    <ul>\n",
    "    <li> What testing approach did you use and why?\n",
    "    <li> Write a story with your conclusion in the context of the original problem.\n",
    "    </ul>\n",
    "</ol>\n",
    "\n",
    "You can include written notes in notebook cells using Markdown: \n",
    "   - In the control panel at the top, choose Cell > Cell Type > Markdown\n",
    "   - Markdown syntax: http://nestacms.com/docs/creating-content/markdown-cheat-sheet\n",
    "\n",
    "#### Resources\n",
    "\n",
    "+ Information and data sources: http://www.amstat.org/publications/jse/datasets/normtemp.txt, http://www.amstat.org/publications/jse/jse_data_archive.htm\n",
    "+ Markdown syntax: http://nestacms.com/docs/creating-content/markdown-cheat-sheet\n",
    "\n",
    "****"
   ]
  },
  {
   "cell_type": "code",
   "execution_count": 1,
   "metadata": {},
   "outputs": [],
   "source": [
    "import pandas as pd\n",
    "\n",
    "df = pd.read_csv('data/human_body_temperature.csv')"
   ]
  },
  {
   "cell_type": "code",
   "execution_count": 2,
   "metadata": {},
   "outputs": [
    {
     "name": "stdout",
     "output_type": "stream",
     "text": [
      "   temperature gender  heart_rate\n",
      "0         99.3      F        68.0\n",
      "1         98.4      F        81.0\n",
      "2         97.8      M        73.0\n",
      "3         99.2      F        66.0\n",
      "4         98.0      F        73.0\n"
     ]
    }
   ],
   "source": [
    "print(df.head())\n"
   ]
  },
  {
   "cell_type": "code",
   "execution_count": 3,
   "metadata": {},
   "outputs": [
    {
     "name": "stdout",
     "output_type": "stream",
     "text": [
      "       temperature  heart_rate\n",
      "count   130.000000  130.000000\n",
      "mean     98.249231   73.761538\n",
      "std       0.733183    7.062077\n",
      "min      96.300000   57.000000\n",
      "25%      97.800000   69.000000\n",
      "50%      98.300000   74.000000\n",
      "75%      98.700000   79.000000\n",
      "max     100.800000   89.000000\n"
     ]
    }
   ],
   "source": [
    "print(df.describe())"
   ]
  },
  {
   "cell_type": "code",
   "execution_count": 4,
   "metadata": {},
   "outputs": [
    {
     "name": "stdout",
     "output_type": "stream",
     "text": [
      "<class 'pandas.core.frame.DataFrame'>\n",
      "RangeIndex: 130 entries, 0 to 129\n",
      "Data columns (total 3 columns):\n",
      "temperature    130 non-null float64\n",
      "gender         130 non-null object\n",
      "heart_rate     130 non-null float64\n",
      "dtypes: float64(2), object(1)\n",
      "memory usage: 3.1+ KB\n",
      "None\n"
     ]
    }
   ],
   "source": [
    "print(df.info())"
   ]
  },
  {
   "cell_type": "code",
   "execution_count": 5,
   "metadata": {},
   "outputs": [],
   "source": [
    "## Functions for later use\n",
    "\n",
    "def ecdf(data):\n",
    "    \"\"\"Compute ECDF for a one-dimensional array of measurements.\"\"\"\n",
    "    # Number of data points: n\n",
    "    n = len(data)\n",
    "\n",
    "    # x-data for the ECDF: x\n",
    "    x = np.sort(data)\n",
    "\n",
    "    # y-data for the ECDF: y\n",
    "    y = np.arange(1, len(x)+1) / n\n",
    "\n",
    "    return x, y\n",
    "\n",
    "def bootstrap_replicate_1d(data, func):\n",
    "    \"\"\"Generates one replicate.\"\"\"\n",
    "    return func(np.random.choice(data, size=len(data)))\n",
    "\n",
    "def draw_bs_reps(data, func, size=1):\n",
    "    \"\"\"Draw bootstrap replicates.\"\"\"\n",
    "\n",
    "    # Initialize array of replicates: bs_replicates\n",
    "    bs_replicates = np.empty(size)\n",
    "\n",
    "    # Generate replicates\n",
    "    for i in range(size):\n",
    "        bs_replicates[i] = bootstrap_replicate_1d(data, func)\n",
    "\n",
    "    return bs_replicates"
   ]
  },
  {
   "cell_type": "markdown",
   "metadata": {},
   "source": [
    "# Question 1\n"
   ]
  },
  {
   "cell_type": "code",
   "execution_count": 6,
   "metadata": {},
   "outputs": [],
   "source": [
    "#Question 1 \n",
    "\n",
    "import matplotlib.pyplot as plt\n",
    "import seaborn as sns\n",
    "import numpy as np\n",
    "import scipy.stats as st\n",
    "from statsmodels.stats import weightstats as stests\n",
    "\n",
    "sns.set()\n",
    "\n",
    "_ = plt.hist(df['temperature'], bins=35)\n",
    "_ = plt.xlabel('temperature')\n",
    "_ = plt.ylabel('Number of observations')"
   ]
  },
  {
   "cell_type": "code",
   "execution_count": 7,
   "metadata": {},
   "outputs": [
    {
     "data": {
      "image/png": "[encoded data removed]",
      "text/plain": [
       "<matplotlib.figure.Figure at 0x2b468dbe438>"
      ]
     },
     "metadata": {},
     "output_type": "display_data"
    }
   ],
   "source": [
    "#Question 1 (cont'd)\n",
    "# Looks to be normally distributed\n",
    "\n",
    "temp = np.array(df['temperature'])\n",
    "\n",
    "# Compute mean and standard deviation: mu, sigma\n",
    "mu = np.mean(temp)\n",
    "sigma = np.std(temp)\n",
    "\n",
    "# Sample out of a normal distribution with this mu and sigma: samples\n",
    "samples = np.random.normal(mu, sigma, size = 10000)\n",
    "\n",
    "# Get the CDF of the samples and of the data\n",
    "x_theor,y_theor = ecdf(samples)\n",
    "x,y = ecdf(temp)\n",
    "\n",
    "# Plot the CDFs and show the plot\n",
    "_ = plt.plot(x_theor, y_theor)\n",
    "_ = plt.plot(x, y, marker='.', linestyle='none')\n",
    "_ = plt.xlabel('body temperature')\n",
    "_ = plt.ylabel('CDF')\n",
    "plt.show()"
   ]
  },
  {
   "cell_type": "markdown",
   "metadata": {},
   "source": [
    "Based on the plot of cumulative distributive function above, temperature is approximately normally distributed"
   ]
  },
  {
   "cell_type": "markdown",
   "metadata": {},
   "source": [
    "# Question 2\n",
    "\n",
    "Sample size is large enough to utilize the central limit theorem.\n",
    "Rule of thumb is sample size is greater than 30.\n"
   ]
  },
  {
   "cell_type": "markdown",
   "metadata": {},
   "source": [
    "# Question 3"
   ]
  },
  {
   "cell_type": "code",
   "execution_count": 8,
   "metadata": {},
   "outputs": [
    {
     "name": "stdout",
     "output_type": "stream",
     "text": [
      "p =  0.0\n"
     ]
    }
   ],
   "source": [
    "#Question 3\n",
    "\n",
    "#Null Hypothesis is mean temperature is 98.6 degrees Fahrenheit\n",
    "population_temperature_mean = 98.6\n",
    "\n",
    "# Make an array of translated temperature readings\n",
    "temp_shifted = temp - np.mean(temp) + population_temperature_mean\n",
    "\n",
    "# Take bootstrap replicates of translated temperature readings: bs_replicates\n",
    "bs_replicates = draw_bs_reps(temp_shifted, np.mean, 10000)\n",
    "\n",
    "# Compute fraction of replicates that are at most the sample mean\n",
    "p = np.sum(bs_replicates <= np.mean(temp)) / 10000\n",
    "\n",
    "print('p = ', p)\n"
   ]
  },
  {
   "cell_type": "markdown",
   "metadata": {},
   "source": [
    "Low p-value is evidence against null hypothesis"
   ]
  },
  {
   "cell_type": "markdown",
   "metadata": {},
   "source": [
    "## Question 3 (cont'd)\n",
    "\n",
    " We use the z-statistic for a one-sample test to test the likelihood of mean sample being less than true population mean at 5% significance level.\n",
    " \n",
    " Null hypothesis is rejected if z <= -1.96 or z >= 1.96.\n",
    "  \n",
    " test statistic (z or t) = (sample mean - null value) / (standard deviation / n^(1/2))\n"
   ]
  },
  {
   "cell_type": "code",
   "execution_count": 9,
   "metadata": {},
   "outputs": [
    {
     "name": "stdout",
     "output_type": "stream",
     "text": [
      "test-stat:  -5.4759252020785585\n"
     ]
    }
   ],
   "source": [
    "#Manual Calculation\n",
    "Z = (mu - 98.6) / (sigma / np.sqrt(len(temp)))\n",
    "print ('test-stat: ', Z)"
   ]
  },
  {
   "cell_type": "code",
   "execution_count": 10,
   "metadata": {},
   "outputs": [
    {
     "name": "stdout",
     "output_type": "stream",
     "text": [
      "Z-stat is: -5.4548232923645195\n",
      "P-value is 4.9021570141012155e-08\n"
     ]
    }
   ],
   "source": [
    "#Calculation of z-stat using stats package\n",
    "\n",
    "testResult=stests.ztest(temp, value = 98.6)\n",
    "\n",
    "print(\"Z-stat is: \" + str(testResult[0]))\n",
    "print(\"P-value is \" + str(testResult[1]))"
   ]
  },
  {
   "cell_type": "code",
   "execution_count": 11,
   "metadata": {},
   "outputs": [
    {
     "name": "stdout",
     "output_type": "stream",
     "text": [
      "T-stat is: -5.4548232923645195\n",
      "P-value is 2.4106320415561276e-07\n"
     ]
    }
   ],
   "source": [
    "#Calculation of t-stat using stats package\n",
    "\n",
    "tStatResult = st.ttest_1samp(temp, 98.6)\n",
    "\n",
    "print(\"T-stat is: \" + str(tStatResult[0]))\n",
    "print(\"P-value is \" + str(tStatResult[1]))\n"
   ]
  },
  {
   "cell_type": "markdown",
   "metadata": {},
   "source": [
    "The P-values are near zero for each test. This means it is extremely improbable that the true population mean of temperature is 98.6 degrees."
   ]
  },
  {
   "cell_type": "markdown",
   "metadata": {},
   "source": [
    "# Question 4\n"
   ]
  },
  {
   "cell_type": "code",
   "execution_count": 12,
   "metadata": {},
   "outputs": [],
   "source": [
    "#Draw sample size of 10 from original temperature data\n",
    "\n",
    "sample_temp = np.random.choice(temp, size=10)"
   ]
  },
  {
   "cell_type": "markdown",
   "metadata": {},
   "source": [
    "Due to a small sample size, the central limit theorem no longer holds. Therefore the t-test should be used."
   ]
  },
  {
   "cell_type": "code",
   "execution_count": 13,
   "metadata": {},
   "outputs": [
    {
     "name": "stdout",
     "output_type": "stream",
     "text": [
      "T-stat is: -1.437805752815876\n",
      "P-value is: 0.18433522942287867\n"
     ]
    }
   ],
   "source": [
    "# Getting t-stat\n",
    "\n",
    "tStat = st.ttest_1samp(sample_temp, 98.6)\n",
    "print(\"T-stat is: \" + str(tStat[0]))\n",
    "print(\"P-value is: \" + str(tStat[1]))\n"
   ]
  },
  {
   "cell_type": "code",
   "execution_count": 14,
   "metadata": {},
   "outputs": [
    {
     "name": "stdout",
     "output_type": "stream",
     "text": [
      "Z-stat is: -1.437805752815876\n",
      "P-value is: 0.15048917663375716\n"
     ]
    }
   ],
   "source": [
    "zStat = stests.ztest(sample_temp, value = 98.6)\n",
    "\n",
    "print(\"Z-stat is: \" + str(zStat[0]))\n",
    "print(\"P-value is: \" + str(zStat[1]))"
   ]
  },
  {
   "cell_type": "markdown",
   "metadata": {},
   "source": [
    "## Question 4 (cont'd)\n",
    "\n",
    "The p-value is larger for the z-test than the t-test. This indicates the t-test is more stringent (harder to reject the null hypothesis).\n"
   ]
  },
  {
   "cell_type": "markdown",
   "metadata": {},
   "source": [
    "## Question 5\n",
    "\n",
    "We are considering 'abnormal' anything outside of the the 95% confidence interval."
   ]
  },
  {
   "cell_type": "code",
   "execution_count": 15,
   "metadata": {},
   "outputs": [
    {
     "name": "stdout",
     "output_type": "stream",
     "text": [
      "Bootstrap confidence interval:  [98.12384615 98.37461538]\n"
     ]
    }
   ],
   "source": [
    "#Bootstrap confidence interval\n",
    "\n",
    "bs_reps = draw_bs_reps(temp, np.mean, size=10000)\n",
    "    \n",
    "print('Bootstrap confidence interval: ', np.percentile(bs_reps, [2.5, 97.5]))"
   ]
  },
  {
   "cell_type": "code",
   "execution_count": 16,
   "metadata": {},
   "outputs": [
    {
     "name": "stdout",
     "output_type": "stream",
     "text": [
      "Frequentist confidence interval:  (98.12367980442816, 98.37478173403333)\n"
     ]
    }
   ],
   "source": [
    "#Frequentist confidence interval (manual):\n",
    "\n",
    "conf_int = (mu - (1.96 * sigma/np.sqrt(len(temp))), mu + (1.96 * sigma/np.sqrt(len(temp))))\n",
    "\n",
    "print('Frequentist confidence interval: ', conf_int)"
   ]
  },
  {
   "cell_type": "code",
   "execution_count": 17,
   "metadata": {},
   "outputs": [
    {
     "name": "stdout",
     "output_type": "stream",
     "text": [
      "Frequentist confidence interval:  (98.12319642818163, 98.37526511027987)\n"
     ]
    }
   ],
   "source": [
    "#Frequentist confidence interval using statistical package\n",
    "\n",
    "conf_int = stests.zconfint(temp, alpha=0.05)\n",
    "\n",
    "print('Frequentist confidence interval: ', str(conf_int))"
   ]
  },
  {
   "cell_type": "markdown",
   "metadata": {},
   "source": [
    "# Question 6\n",
    "\n",
    "In order to see whether there is a difference between male and female temperatures, we use the two sample bootstrap hypothesis for difference of means\n"
   ]
  },
  {
   "cell_type": "code",
   "execution_count": 18,
   "metadata": {},
   "outputs": [
    {
     "name": "stdout",
     "output_type": "stream",
     "text": [
      "Observed difference in average temperatures:  0.2892307692307696\n"
     ]
    }
   ],
   "source": [
    "## Question 6\n",
    "\n",
    "#Select male temperatures\n",
    "male = np.array(df[df.gender == 'M']['temperature'])\n",
    "female = np.array(df[df.gender == 'F']['temperature'])\n",
    "\n",
    "observed_difference = np.mean(female) - np.mean(male)\n",
    "\n",
    "print('Observed difference in average temperatures: ', observed_difference)"
   ]
  },
  {
   "cell_type": "code",
   "execution_count": 19,
   "metadata": {},
   "outputs": [
    {
     "name": "stdout",
     "output_type": "stream",
     "text": [
      "p-value = 0.0105\n"
     ]
    }
   ],
   "source": [
    "#two sample z-test using 'datacamp bootcamp method'\n",
    "\n",
    "# Generate shifted arrays\n",
    "# we shift both arrays to have the same mean, since we are simulating the hypothesis that their means are equal\n",
    "\n",
    "male_shifted = male - np.mean(male) + mu        # where mu is average over entire sample\n",
    "female_shifted = female - np.mean(female) + mu\n",
    "\n",
    "# Compute 10,000 bootstrap replicates from shifted arrays\n",
    "\n",
    "bs_replicates_male = draw_bs_reps(male_shifted, np.mean, 10000)\n",
    "bs_replicates_female = draw_bs_reps(female_shifted, np.mean, 10000)\n",
    "\n",
    "# Get replicates of difference of means: bs_replicates\n",
    "\n",
    "bs_replications = bs_replicates_female - bs_replicates_male\n",
    "\n",
    "# Compute and print p-value: p\n",
    "\n",
    "p = np.sum(bs_replications > observed_difference) / len(bs_replications)\n",
    "print('p-value =', p)"
   ]
  },
  {
   "cell_type": "code",
   "execution_count": 20,
   "metadata": {},
   "outputs": [
    {
     "name": "stdout",
     "output_type": "stream",
     "text": [
      "Z-stat is: 2.2854345381656103\n",
      "P-value is: 0.02228736076065755\n"
     ]
    }
   ],
   "source": [
    "#two sample z-test using stats package\n",
    "\n",
    "two_sample_test = stests.ztest(female, male)\n",
    "\n",
    "print(\"Z-stat is: \" + str(two_sample_test[0]))\n",
    "print(\"P-value is: \" + str(two_sample_test[1]))"
   ]
  },
  {
   "cell_type": "markdown",
   "metadata": {},
   "source": [
    "Low p-value above indicates the observed difference between mean female and male temperatures \n",
    "is unlikeley to have occurred by chance."
   ]
  }
 ],
 "metadata": {
  "kernelspec": {
   "display_name": "Python 3",
   "language": "python",
   "name": "python3"
  },
  "language_info": {
   "codemirror_mode": {
    "name": "ipython",
    "version": 3
   },
   "file_extension": ".py",
   "mimetype": "text/x-python",
   "name": "python",
   "nbconvert_exporter": "python",
   "pygments_lexer": "ipython3",
   "version": "3.6.4"
  }
 },
 "nbformat": 4,
 "nbformat_minor": 1
}
